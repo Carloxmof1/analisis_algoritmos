{
 "cells": [
  {
   "cell_type": "markdown",
   "metadata": {},
   "source": [
    "# Programacion Dinamica Grafos\n",
    "\n"
   ]
  },
  {
   "cell_type": "code",
   "execution_count": 50,
   "metadata": {},
   "outputs": [],
   "source": [
    "import numpy as np\n",
    "\n",
    "class abstract_graph:\n",
    "    \n",
    "    def __init__(self,_edges):\n",
    "        self.edges=_edges\n",
    "        self.nodes={u for u,v in self.edges} | {v for u,v in self.edges}\n",
    "    \n",
    "    def adjacency_list(self):\n",
    "        pass\n",
    "    \n",
    "class weighted_graph(abstract_graph):\n",
    "    \n",
    "    def __init__(self,_edges):\n",
    "        self.edges=_edges\n",
    "        self.nodes={u for u,v in self.edges.keys()} | {v for u,v in self.edges.keys()}\n",
    "        \n",
    "    \n",
    "    def adjacency_list(self):\n",
    "        adjacent=lambda n : {v:self.edges[(u,v)] for u,v in self.edges.keys() if u==n }\n",
    "        return {v:adjacent(v) for v in self.nodes}"
   ]
  },
  {
   "cell_type": "code",
   "execution_count": 101,
   "metadata": {},
   "outputs": [],
   "source": [
    "random_graph = lambda n,p : {(u,v):np.random.randint(1,10) for u in np.arange(n) for v in np.arange(n) if np.random.rand()>p and u!=v}"
   ]
  },
  {
   "cell_type": "code",
   "execution_count": 102,
   "metadata": {},
   "outputs": [
    {
     "name": "stdout",
     "output_type": "stream",
     "text": [
      "nodos :  set([0, 1, 2, 3, 4, 5, 6, 7, 8, 9])\n",
      "lista adyacencia :  {0: {1: 2, 2: 6, 3: 9, 4: 8, 5: 6, 6: 7, 7: 1, 8: 8}, 1: {0: 1, 2: 8, 3: 2, 5: 8, 6: 8, 9: 6}, 2: {0: 2, 1: 5, 4: 1, 5: 8, 7: 3, 8: 7}, 3: {0: 6, 2: 1, 4: 9, 5: 8, 7: 7, 8: 2, 9: 4}, 4: {0: 7, 1: 8, 2: 7, 3: 3, 5: 5, 6: 7, 7: 2, 8: 7, 9: 3}, 5: {0: 1, 1: 5, 2: 8, 3: 5, 4: 7, 6: 6, 8: 6, 9: 1}, 6: {0: 4, 1: 2, 2: 8, 3: 4, 4: 9, 5: 6, 7: 3, 8: 8, 9: 6}, 7: {0: 9, 1: 5, 2: 8, 3: 5, 4: 3, 5: 9, 6: 7, 8: 5, 9: 6}, 8: {0: 8, 1: 9, 2: 9, 3: 8, 4: 5, 5: 2, 6: 2, 7: 7}, 9: {0: 3, 1: 6, 2: 6, 3: 5, 4: 4, 5: 5, 7: 6, 8: 4}}\n"
     ]
    }
   ],
   "source": [
    "E=random_graph(10,0.1)\n",
    "G=weighted_graph(E)\n",
    "print 'nodos : ',G.nodes\n",
    "\n",
    "print 'lista adyacencia : ',G.adjacency_list()"
   ]
  },
  {
   "cell_type": "code",
   "execution_count": 103,
   "metadata": {},
   "outputs": [
    {
     "ename": "ImportError",
     "evalue": "No module named priodict",
     "output_type": "error",
     "traceback": [
      "\u001b[0;31m---------------------------------------------------------------------------\u001b[0m",
      "\u001b[0;31mImportError\u001b[0m                               Traceback (most recent call last)",
      "\u001b[0;32m<ipython-input-103-b2d33fb7abd1>\u001b[0m in \u001b[0;36m<module>\u001b[0;34m()\u001b[0m\n\u001b[1;32m      3\u001b[0m \u001b[0;34m\u001b[0m\u001b[0m\n\u001b[1;32m      4\u001b[0m \u001b[0;31m# http://aspn.activestate.com/ASPN/Cookbook/Python/Recipe/117228\u001b[0m\u001b[0;34m\u001b[0m\u001b[0;34m\u001b[0m\u001b[0m\n\u001b[0;32m----> 5\u001b[0;31m \u001b[0;32mfrom\u001b[0m \u001b[0mpriodict\u001b[0m \u001b[0;32mimport\u001b[0m \u001b[0mpriorityDictionary\u001b[0m\u001b[0;34m\u001b[0m\u001b[0m\n\u001b[0m\u001b[1;32m      6\u001b[0m \u001b[0;34m\u001b[0m\u001b[0m\n\u001b[1;32m      7\u001b[0m \u001b[0;32mdef\u001b[0m \u001b[0mDijkstra\u001b[0m\u001b[0;34m(\u001b[0m\u001b[0mG\u001b[0m\u001b[0;34m,\u001b[0m\u001b[0mstart\u001b[0m\u001b[0;34m,\u001b[0m\u001b[0mend\u001b[0m\u001b[0;34m=\u001b[0m\u001b[0mNone\u001b[0m\u001b[0;34m)\u001b[0m\u001b[0;34m:\u001b[0m\u001b[0;34m\u001b[0m\u001b[0m\n",
      "\u001b[0;31mImportError\u001b[0m: No module named priodict"
     ]
    }
   ],
   "source": [
    "# Dijkstra's algorithm for shortest paths\n",
    "# David Eppstein, UC Irvine, 4 April 2002\n",
    "\n",
    "# http://aspn.activestate.com/ASPN/Cookbook/Python/Recipe/117228\n",
    "from priodict import priorityDictionary\n",
    "\n",
    "def Dijkstra(G,start,end=None):\n",
    "\n",
    "\tD = {}\t# dictionary of final distances\n",
    "\tP = {}\t# dictionary of predecessors\n",
    "\tQ = priorityDictionary()   # est.dist. of non-final vert.\n",
    "\tQ[start] = 0\n",
    "\t\n",
    "\tfor v in Q:\n",
    "\t\tD[v] = Q[v]\n",
    "\t\tif v == end: break\n",
    "\t\t\n",
    "\t\tfor w in G[v]:\n",
    "\t\t\tvwLength = D[v] + G[v][w]\n",
    "\t\t\tif w in D:\n",
    "\t\t\t\tif vwLength < D[w]:\n",
    "\t\t\t\t\traise ValueError, \\\n",
    "  \"Dijkstra: found better path to already-final vertex\"\n",
    "\t\t\telif w not in Q or vwLength < Q[w]:\n",
    "\t\t\t\tQ[w] = vwLength\n",
    "\t\t\t\tP[w] = v\n",
    "\t\n",
    "\treturn (D,P)\n",
    "\t\t\t\n",
    "def shortestPath(G,start,end):\n",
    "\n",
    "\tD,P = Dijkstra(G,start,end)\n",
    "\tPath = []\n",
    "\twhile 1:\n",
    "\t\tPath.append(end)\n",
    "\t\tif end == start: break\n",
    "\t\tend = P[end]\n",
    "\tPath.reverse()\n",
    "\treturn Path"
   ]
  },
  {
   "cell_type": "code",
   "execution_count": null,
   "metadata": {},
   "outputs": [],
   "source": []
  }
 ],
 "metadata": {
  "kernelspec": {
   "display_name": "Python 2",
   "language": "python",
   "name": "python2"
  },
  "language_info": {
   "codemirror_mode": {
    "name": "ipython",
    "version": 2
   },
   "file_extension": ".py",
   "mimetype": "text/x-python",
   "name": "python",
   "nbconvert_exporter": "python",
   "pygments_lexer": "ipython2",
   "version": "2.7.14"
  }
 },
 "nbformat": 4,
 "nbformat_minor": 2
}
