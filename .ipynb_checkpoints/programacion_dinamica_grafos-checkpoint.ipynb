{
 "cells": [
  {
   "cell_type": "markdown",
   "metadata": {},
   "source": [
    "# Programacion Dinamica Grafos\n",
    "\n"
   ]
  },
  {
   "cell_type": "code",
   "execution_count": 5,
   "metadata": {},
   "outputs": [],
   "source": [
    "import numpy as np\n",
    "\n",
    "class abstract_graph:\n",
    "    \n",
    "    def __init__(self,_edges):\n",
    "        self.edges=_edges\n",
    "        self.nodes={u for u,v in self.edges} | {v for u,v in self.edges}\n",
    "    \n",
    "    def adjacency_list(self):\n",
    "        pass\n",
    "    \n",
    "class weighted_graph(abstract_graph):\n",
    "    \n",
    "    def __init__(self,_edges):\n",
    "        self.edges=_edges\n",
    "        self.nodes={u for u,v in self.edges.keys()} | {v for u,v in self.edges.keys()}\n",
    "        \n",
    "    \n",
    "    def adjacency_list(self):\n",
    "        adjacent=lambda n : {v:self.edges[(u,v)] for u,v in self.edges.keys() if u==n }\n",
    "        return {v:adjacent(v) for v in self.nodes}"
   ]
  },
  {
   "cell_type": "code",
   "execution_count": 6,
   "metadata": {},
   "outputs": [],
   "source": [
    "random_graph = lambda n,p : {(u,v):np.random.randint(1,10) for u in np.arange(n) for v in np.arange(n) if np.random.rand()>p and u!=v}"
   ]
  },
  {
   "cell_type": "code",
   "execution_count": 12,
   "metadata": {},
   "outputs": [
    {
     "name": "stdout",
     "output_type": "stream",
     "text": [
      "nodos :  set([0, 1, 2, 3, 4, 5, 6, 7, 8, 9])\n",
      "lista adyacencia :  {0: {1: 2, 5: 6}, 1: {0: 7, 3: 2}, 2: {1: 3, 3: 9, 5: 2, 6: 6, 7: 3, 8: 5, 9: 1}, 3: {0: 3, 8: 1, 2: 6, 6: 9, 7: 4}, 4: {1: 4, 2: 3, 3: 9, 6: 2, 8: 6, 9: 6}, 5: {1: 1, 2: 1, 6: 1, 7: 1, 8: 1, 9: 7}, 6: {0: 5, 1: 8, 2: 2, 3: 6, 4: 4, 5: 4, 7: 4, 9: 3}, 7: {1: 8, 2: 9, 4: 6, 5: 1, 9: 5}, 8: {0: 9, 1: 5, 2: 7, 3: 3, 5: 4, 6: 6, 7: 9, 9: 2}, 9: {0: 9, 1: 4, 3: 1, 4: 2, 5: 6, 6: 5, 7: 9}}\n"
     ]
    }
   ],
   "source": [
    "E=random_graph(10,0.5)\n",
    "G=weighted_graph(E)\n",
    "print 'nodos : ',G.nodes\n",
    "\n",
    "print 'lista adyacencia : ',G.adjacency_list()"
   ]
  },
  {
   "cell_type": "code",
   "execution_count": 59,
   "metadata": {},
   "outputs": [],
   "source": [
    "import heapq\n",
    "import numpy as np\n",
    "\n",
    "def Dijkstra(G,start):\n",
    "    L = G.adjacency_list()\n",
    "    U = {start:0}\n",
    "    D = {v:np.inf for v in G.nodes}\n",
    "    D.update(L[start])\n",
    "    D.update({start:0})\n",
    "    PQ = []\n",
    "    for v,w in L[start].iteritems():\n",
    "        heapq.heappush(PQ,(D[v],v))\n",
    "    k = start\n",
    "    while set(U.keys())!=G.nodes:\n",
    "        parent = k\n",
    "        while k in U:\n",
    "            w_k,k=heapq.heappop(PQ)\n",
    "        for v,w_kv in L[k].iteritems():\n",
    "            new_dist=w_kv+D[k]\n",
    "            if D[v]>(new_dist):\n",
    "                D.update({v:new_dist})\n",
    "                heapq.heappush(PQ,(D[v],v))\n",
    "        U.update({k:parent})\n",
    "    return D,U\n",
    "\n"
   ]
  },
  {
   "cell_type": "code",
   "execution_count": 63,
   "metadata": {},
   "outputs": [
    {
     "name": "stdout",
     "output_type": "stream",
     "text": [
      "{0: {1: 2, 5: 6}, 1: {0: 7, 3: 2}, 2: {1: 3, 3: 9, 5: 2, 6: 6, 7: 3, 8: 5, 9: 1}, 3: {0: 3, 8: 1, 2: 6, 6: 9, 7: 4}, 4: {1: 4, 2: 3, 3: 9, 6: 2, 8: 6, 9: 6}, 5: {1: 1, 2: 1, 6: 1, 7: 1, 8: 1, 9: 7}, 6: {0: 5, 1: 8, 2: 2, 3: 6, 4: 4, 5: 4, 7: 4, 9: 3}, 7: {1: 8, 2: 9, 4: 6, 5: 1, 9: 5}, 8: {0: 9, 1: 5, 2: 7, 3: 3, 5: 4, 6: 6, 7: 9, 9: 2}, 9: {0: 9, 1: 4, 3: 1, 4: 2, 5: 6, 6: 5, 7: 9}}\n",
      "Distancias :  {0: 3, 1: 5, 2: 6, 3: 0, 4: 5, 5: 5, 6: 6, 7: 4, 8: 1, 9: 3}\n",
      "Caminos mas cortos :  {0: 8, 1: 7, 2: 5, 3: 0, 4: 1, 5: 4, 6: 2, 7: 9, 8: 3, 9: 0}\n"
     ]
    }
   ],
   "source": [
    "D,U=Dijkstra(G,0)\n",
    "\n",
    "print G.adjacency_list()\n",
    "print \"Distancias : \",D\n",
    "print \"Caminos mas cortos : \",U"
   ]
  },
  {
   "cell_type": "code",
   "execution_count": null,
   "metadata": {},
   "outputs": [],
   "source": []
  },
  {
   "cell_type": "code",
   "execution_count": null,
   "metadata": {},
   "outputs": [],
   "source": []
  }
 ],
 "metadata": {
  "kernelspec": {
   "display_name": "Python 2",
   "language": "python",
   "name": "python2"
  },
  "language_info": {
   "codemirror_mode": {
    "name": "ipython",
    "version": 2
   },
   "file_extension": ".py",
   "mimetype": "text/x-python",
   "name": "python",
   "nbconvert_exporter": "python",
   "pygments_lexer": "ipython2",
   "version": "2.7.14"
  }
 },
 "nbformat": 4,
 "nbformat_minor": 2
}
