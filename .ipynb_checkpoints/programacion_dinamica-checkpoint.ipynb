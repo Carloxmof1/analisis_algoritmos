{
 "cells": [
  {
   "cell_type": "markdown",
   "metadata": {},
   "source": [
    "# Programación Dinámica\n",
    "\n",
    "La programación dinámica es una técnica para resolver problemas de optimización que exhiben las siguientes propiedades:\n",
    "\n",
    "    1 Puede ser descompuesto en sub-problemas traslapados.\n",
    "    2 Contienen sub-estructuras óptimas\n",
    "    3 El número de sub-problemas es relativamente bajo\n",
    "    "
   ]
  },
  {
   "cell_type": "markdown",
   "metadata": {},
   "source": [
    "# Secuenciamiento de ADN\n",
    "\n",
    "\n",
    "El alineamiento de secuencias es una manera de analizar estructuras evolutivas entre genes o proteínas. Dadas dos secuencias de ADN $S_1=[A,C,G,T,C,A,T,C,A ]$ y $S_2=[T,A,G,T,G,T,C,A]$ nos interesa encontrar la sub-cadena común más larga. Podemos formalizar el problema de secuenciamiento como encontrar el alineamiento de sub-cadenas con el mínimo costo. \n",
    "\n",
    "La noción de similitud entre sub-cadenas se puede definir como encontrar una secuencia creciente de indices $I=[i_1,i_2,\\ldots\\,i_k]$ tal que $x_{i_j}=y_j$ para todo $x_{i_j} \\in S_1$ y $y_j \\in S_2$.\n",
    "\n",
    "La solución de fuerza bruta consiste en enumerar todas las sub-cadenas posibles. Sin enbargo, este número crece exponencialmente con el tamaño de la cadena. "
   ]
  },
  {
   "cell_type": "code",
   "execution_count": 35,
   "metadata": {},
   "outputs": [],
   "source": [
    "from itertools import combinations as comb\n",
    "\n",
    "S_1='ACGTCATCA'\n",
    "\n",
    "sub_str=list(comb(S_1, 2))"
   ]
  },
  {
   "cell_type": "code",
   "execution_count": 39,
   "metadata": {},
   "outputs": [
    {
     "name": "stdout",
     "output_type": "stream",
     "text": [
      "('A', 'C')\n",
      "[0, 1, 4, 5, 7, 8]\n"
     ]
    }
   ],
   "source": []
  },
  {
   "cell_type": "code",
   "execution_count": null,
   "metadata": {},
   "outputs": [],
   "source": []
  }
 ],
 "metadata": {
  "kernelspec": {
   "display_name": "Python 2",
   "language": "python",
   "name": "python2"
  },
  "language_info": {
   "codemirror_mode": {
    "name": "ipython",
    "version": 2
   },
   "file_extension": ".py",
   "mimetype": "text/x-python",
   "name": "python",
   "nbconvert_exporter": "python",
   "pygments_lexer": "ipython2",
   "version": "2.7.12"
  }
 },
 "nbformat": 4,
 "nbformat_minor": 2
}
