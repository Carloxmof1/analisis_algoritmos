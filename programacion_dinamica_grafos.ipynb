{
 "cells": [
  {
   "cell_type": "markdown",
   "metadata": {},
   "source": [
    "# Programacion Dinamica Grafos\n",
    "\n"
   ]
  },
  {
   "cell_type": "code",
   "execution_count": 13,
   "metadata": {},
   "outputs": [],
   "source": [
    "import numpy as np\n",
    "\n",
    "class abstract_graph:\n",
    "    \n",
    "    def __init__(self,_edges):\n",
    "        self.edges=_edges\n",
    "        self.nodes={u for u,v in self.edges} | {v for u,v in self.edges}\n",
    "    \n",
    "    def adjacency_list(self):\n",
    "        pass\n",
    "    \n",
    "class weighted_graph(abstract_graph):\n",
    "    \n",
    "    def __init__(self,_edges):\n",
    "        self.edges=_edges\n",
    "        self.nodes={u for u,v in self.edges.keys()} | {v for u,v in self.edges.keys()}\n",
    "        \n",
    "    \n",
    "    def adjacency_list(self):\n",
    "        adjacent=lambda n : {v:self.edges[(u,v)] for u,v in self.edges.keys() if u==n }\n",
    "        return {v:adjacent(v) for v in self.nodes}"
   ]
  },
  {
   "cell_type": "code",
   "execution_count": 14,
   "metadata": {},
   "outputs": [],
   "source": [
    "random_graph = lambda n,p : {(u,v):np.random.randint(1,10) for u in np.arange(n) for v in np.arange(n) if np.random.rand()>p and u!=v}"
   ]
  },
  {
   "cell_type": "code",
   "execution_count": 38,
   "metadata": {},
   "outputs": [],
   "source": [
    "import heapq\n",
    "import numpy as np\n",
    "\n",
    "def Dijkstra(G,start):\n",
    "    L = G.adjacency_list()\n",
    "    U = {start:start}\n",
    "    D = {v:np.inf for v in G.nodes}\n",
    "    D.update(L[start])\n",
    "    D.update({start:0})\n",
    "    PQ = []\n",
    "    for v,w in L[start].iteritems():\n",
    "        heapq.heappush(PQ,(D[v],v))\n",
    "    k = start\n",
    "    while set(U.keys())!=G.nodes:\n",
    "        parent = k\n",
    "        while len(PQ)>0 and k in U:\n",
    "            w_k,k=heapq.heappop(PQ)\n",
    "        for v,w_kv in L[k].iteritems():\n",
    "            new_dist=w_kv+D[k]\n",
    "            if D[v]>(new_dist):\n",
    "                D.update({v:new_dist})\n",
    "                heapq.heappush(PQ,(D[v],v))\n",
    "        U.update({k:parent})\n",
    "    return D,U\n",
    "\n"
   ]
  },
  {
   "cell_type": "code",
   "execution_count": 43,
   "metadata": {},
   "outputs": [
    {
     "name": "stdout",
     "output_type": "stream",
     "text": [
      "nodos :  set([0, 1, 2, 3, 4, 5, 6, 7, 8, 9])\n",
      "lista adyacencia :  {0: {1: 6, 2: 9, 3: 7, 4: 5, 5: 7, 6: 4, 7: 9, 8: 1, 9: 9}, 1: {0: 4, 2: 8, 3: 7, 4: 4, 5: 8, 6: 3, 7: 1, 8: 3, 9: 4}, 2: {0: 7, 1: 1, 3: 1, 4: 6, 5: 3, 6: 1, 7: 2, 8: 7, 9: 9}, 3: {0: 3, 1: 3, 2: 8, 4: 6, 6: 4, 7: 3, 8: 7, 9: 5}, 4: {0: 4, 1: 1, 2: 2, 3: 5, 5: 8, 6: 6, 7: 2, 8: 1, 9: 6}, 5: {0: 4, 1: 5, 4: 1, 6: 6, 7: 4, 8: 7, 9: 7}, 6: {0: 2, 1: 7, 2: 7, 3: 4, 4: 4, 5: 2, 7: 6, 8: 7, 9: 5}, 7: {0: 7, 1: 1, 2: 6, 3: 9, 4: 1, 5: 7, 6: 2, 8: 5, 9: 5}, 8: {0: 4, 1: 1, 2: 9, 3: 6, 4: 7, 5: 6, 7: 6, 9: 2}, 9: {0: 2, 1: 5, 2: 5, 3: 3, 4: 3, 6: 3, 7: 3, 8: 3}}\n",
      "-------------------------------------\n",
      "Distancias :  {0: 3, 1: 3, 2: 6, 3: 0, 4: 4, 5: 6, 6: 4, 7: 3, 8: 4, 9: 5}\n",
      "Caminos mas cortos :  {0: 3, 1: 0, 2: 9, 3: 3, 4: 7, 5: 2, 6: 4, 7: 1, 8: 6, 9: 8}\n"
     ]
    }
   ],
   "source": [
    "# cantidad de vértices\n",
    "n=10\n",
    "# 1- probabilidad de crear aristas\n",
    "p=0.1\n",
    "\n",
    "E=random_graph(n,p)\n",
    "\n",
    "G=weighted_graph(E)\n",
    "print 'nodos : ',G.nodes\n",
    "\n",
    "print 'lista adyacencia : ',G.adjacency_list()\n",
    "print '-------------------------------------'\n",
    "# chequear que el grafo sea conexo y que el vértice inicial exista!\n",
    "start=3\n",
    "D,U=Dijkstra(G,start)\n",
    "\n",
    "print 'Distancias : ',D\n",
    "print 'Caminos mas cortos : ',U"
   ]
  },
  {
   "cell_type": "markdown",
   "metadata": {},
   "source": [
    "# Tarea\n",
    "\n",
    "En esta tarea Ud. debe comprobar las siguientes hipótesis:\n",
    "\n",
    "    1.) La complejidad del algoritmo Dijsktra no depende de la cantidad de aristas del grafo.\n",
    "    2.) El peor caso del algoritmo Bellman-Ford se produce cuando el grafo es denso (gran cantidad de aristas).\n",
    "    3.) Cuando se requiere calcular las distancias más cortas entre todos los vértices del grafo, independiente de la cantidad de vértices el algoritmo Floyd-Warshall mejora el tiempo de ejecución de la fuerza bruta."
   ]
  },
  {
   "cell_type": "code",
   "execution_count": null,
   "metadata": {},
   "outputs": [],
   "source": []
  },
  {
   "cell_type": "code",
   "execution_count": null,
   "metadata": {},
   "outputs": [],
   "source": []
  }
 ],
 "metadata": {
  "kernelspec": {
   "display_name": "Python 2",
   "language": "python",
   "name": "python2"
  },
  "language_info": {
   "codemirror_mode": {
    "name": "ipython",
    "version": 2
   },
   "file_extension": ".py",
   "mimetype": "text/x-python",
   "name": "python",
   "nbconvert_exporter": "python",
   "pygments_lexer": "ipython2",
   "version": "2.7.14"
  }
 },
 "nbformat": 4,
 "nbformat_minor": 2
}
