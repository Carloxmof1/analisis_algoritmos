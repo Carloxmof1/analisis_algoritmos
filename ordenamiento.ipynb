{
 "cells": [
  {
   "cell_type": "markdown",
   "metadata": {},
   "source": [
    "# Ordenamiento\n",
    "\n",
    "El ordenamiento de arreglos corresponde a encontrar una permutación tal que cada elemento sea menor a su sucesor. "
   ]
  },
  {
   "cell_type": "code",
   "execution_count": 6,
   "metadata": {},
   "outputs": [],
   "source": [
    "def selection_sort(collection):\n",
    "    length = len(collection)\n",
    "    for i in range(length):\n",
    "        least = i\n",
    "        for k in range(i + 1, length):\n",
    "            if collection[k] < collection[least]:\n",
    "                least = k\n",
    "        collection[least], collection[i] = (collection[i], collection[least])\n",
    "    return collection\n",
    "\n",
    "def insertion_sort(collection):\n",
    "    for index in range(1, len(collection)):\n",
    "        while 0 < index and collection[index] < collection[index - 1]:\n",
    "            collection[index], collection[index - 1] = collection[index - 1], collection[index]\n",
    "            index -= 1\n",
    "    return collection"
   ]
  },
  {
   "cell_type": "code",
   "execution_count": 74,
   "metadata": {},
   "outputs": [
    {
     "name": "stdout",
     "output_type": "stream",
     "text": [
      "Porcentaje de Orden Arreglo 1: 0.570000\n",
      "Porcentaje de Orden Arreglo 2: 0.480000\n",
      "[28 30 89 25 59 60 50  5 69 10  5 53 34 60 87 12 27 65 90 11 11 20 73 79\n",
      " 11 50 25  5 16 71 53 58 76 48 76 32 55 91  0 30 33 82  2  2  7 51 42 65\n",
      "  2 26  8 45 38  7 45  7 83 80 54  0 37 40 57 30 68 25 46 22  0 40 12 97\n",
      " 19 30 67 54 84 11 96 69 33 41 97 28 40 73 10 13 81 94 69 27 46 77  4 99\n",
      " 99 21 44  3]\n",
      "[41 35 60  9 70 44 29 41 19  6 98 41 78 77 89 40  2  4 40 53 90 58 67 42\n",
      " 62 49 25  9 50  5 24  6 83 29 45 41 96 98 22 93 15 74  0 63 80 64 88 41\n",
      " 35 83 36 81 59  6  1  7 98 75 31 58  0 53 55 97 11  6 18 62 98 71 75 83\n",
      " 26 87 13 39 96 94 78 16 18 88 24 70 84 37  4 38 92 69 66 81 91 88 60 45\n",
      " 65 35 11  0]\n",
      "Insertion Sort: 0.003056\n",
      "Selection Sort : 0.001946\n"
     ]
    }
   ],
   "source": [
    "import numpy as np\n",
    "import time\n",
    "\n",
    "def sorted_index(arr):\n",
    "    ix=[]\n",
    "    for i in range(len(arr)-1):\n",
    "        val=arr[i]<=arr[i+1]\n",
    "        ix.append(val)\n",
    "    return np.sum(ix)/float(len(arr))\n",
    "\n",
    "def gen_collection(size):\n",
    "    return numpy.random.randint(0, int(size), size=int(size))\n",
    "\n",
    "#arr1=np.random.permutation(range(int(1e2)))\n",
    "arr1=gen_collection(1e1)\n",
    "arr2=gen_collection(1e1)\n",
    "\n",
    "print('Porcentaje de Orden Arreglo 1: %2f'%sorted_index(arr1))\n",
    "print('Porcentaje de Orden Arreglo 2: %2f'%sorted_index(arr2))\n",
    "\n",
    "print arr1\n",
    "\n",
    "print arr2\n",
    "\n",
    "start=time.clock()\n",
    "insertion_sort(arr1)\n",
    "end=time.clock()\n",
    "t1=end-start\n",
    "\n",
    "start=time.clock()\n",
    "selection_sort(arr2)\n",
    "end=time.clock()\n",
    "t2=end-start\n",
    "\n",
    "\n",
    "\n",
    "print('Insertion Sort: %2f'%t1)\n",
    "print('Selection Sort : %2f'%t2)\n"
   ]
  },
  {
   "cell_type": "code",
   "execution_count": null,
   "metadata": {},
   "outputs": [],
   "source": []
  },
  {
   "cell_type": "code",
   "execution_count": null,
   "metadata": {},
   "outputs": [],
   "source": []
  },
  {
   "cell_type": "code",
   "execution_count": null,
   "metadata": {},
   "outputs": [],
   "source": []
  }
 ],
 "metadata": {
  "kernelspec": {
   "display_name": "Python 2",
   "language": "python",
   "name": "python2"
  },
  "language_info": {
   "codemirror_mode": {
    "name": "ipython",
    "version": 2
   },
   "file_extension": ".py",
   "mimetype": "text/x-python",
   "name": "python",
   "nbconvert_exporter": "python",
   "pygments_lexer": "ipython2",
   "version": "2.7.12"
  }
 },
 "nbformat": 4,
 "nbformat_minor": 2
}
