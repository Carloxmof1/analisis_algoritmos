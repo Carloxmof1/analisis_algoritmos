{
 "cells": [
  {
   "cell_type": "markdown",
   "metadata": {},
   "source": [
    "# Ordenamiento\n",
    "\n",
    "El ordenamiento de arreglos corresponde a encontrar una permutación tal que cada elemento sea menor a su sucesor. "
   ]
  },
  {
   "cell_type": "code",
   "execution_count": 1,
   "metadata": {},
   "outputs": [],
   "source": [
    "def selection_sort(collection):\n",
    "    length = len(collection)\n",
    "    for i in range(length):\n",
    "        least = i\n",
    "        for k in range(i + 1, length):\n",
    "            if collection[k] < collection[least]:\n",
    "                least = k\n",
    "        collection[least], collection[i] = (collection[i], collection[least])\n",
    "    return collection\n",
    "\n",
    "def insertion_sort(collection):\n",
    "    for index in range(1, len(collection)):\n",
    "        while 0 < index and collection[index] < collection[index - 1]:\n",
    "            collection[index], collection[index - 1] = collection[index - 1], collection[index]\n",
    "            index -= 1\n",
    "    return collection"
   ]
  },
  {
   "cell_type": "code",
   "execution_count": 2,
   "metadata": {},
   "outputs": [
    {
     "name": "stdout",
     "output_type": "stream",
     "text": [
      "Insertion Sort: 0.002900\n",
      "Selection Sort : 0.001184\n"
     ]
    }
   ],
   "source": [
    "import numpy as np\n",
    "import time\n",
    "\n",
    "def gen_random(size):\n",
    "    return np.random.permutation(np.arange(size,dtype=np.int8))\n",
    "\n",
    "def gen_reverse(size):\n",
    "    return np.arange(size,-1,-1,dtype=np.int8)\n",
    "\n",
    "arr=gen_reverse(100)\n",
    "\n",
    "start=time.clock()\n",
    "insertion_sort(arr.copy())\n",
    "end=time.clock()\n",
    "t1=end-start\n",
    "\n",
    "start=time.clock()\n",
    "selection_sort(arr.copy())\n",
    "end=time.clock()\n",
    "t2=end-start\n",
    "\n",
    "\n",
    "\n",
    "print('Insertion Sort: %2f'%t1)\n",
    "print('Selection Sort : %2f'%t2)\n"
   ]
  },
  {
   "cell_type": "code",
   "execution_count": 3,
   "metadata": {},
   "outputs": [],
   "source": [
    "def mergesort(A):\n",
    "    n=len(A)\n",
    "    if len(A) <= 1:\n",
    "      return A\n",
    "    L = mergesort(A[0:n/2])\n",
    "    R = mergesort(A[n/2:n])\n",
    "    return merge(L, R)\n",
    "\n",
    "def merge(L, R):\n",
    "    result = []\n",
    "    l_idx, r_idx = (0, 0)\n",
    "    while l_idx < len(L) and r_idx < len(R):\n",
    "      if L[l_idx] < R[r_idx]:\n",
    "        result.append(L[l_idx])\n",
    "        l_idx += 1\n",
    "      else:\n",
    "        result.append(R[r_idx])\n",
    "        r_idx += 1\n",
    "    result.extend(L[l_idx:len(L)])\n",
    "    result.extend(R[r_idx:len(R)])\n",
    "    return result"
   ]
  },
  {
   "cell_type": "code",
   "execution_count": 4,
   "metadata": {},
   "outputs": [
    {
     "name": "stdout",
     "output_type": "stream",
     "text": [
      "[0, 1, 2, 3, 4, 5, 6, 7, 8, 9]\n"
     ]
    }
   ],
   "source": [
    "arr=gen_random(10)\n",
    "\n",
    "sorted_arr=mergesort(arr)\n",
    "\n",
    "print sorted_arr"
   ]
  },
  {
   "cell_type": "code",
   "execution_count": 5,
   "metadata": {},
   "outputs": [],
   "source": [
    "import pandas as pd\n",
    "import sys\n",
    "\n",
    "N=[50,100,500,1000,5000]\n",
    "n_samp=20\n",
    "\n",
    "s_n=[]\n",
    "t_i=[]\n",
    "t_m=[]\n",
    "\n",
    "for i in N:\n",
    "    for j in range(n_samp):\n",
    "        s_n.append(i)\n",
    "        arr=gen_random(i)\n",
    "        start=time.clock()\n",
    "        ins_arr=insertion_sort(arr.copy())\n",
    "        end=time.clock()\n",
    "        t_i.append(end-start)\n",
    "        start=time.clock()\n",
    "        merge_arr=mergesort(arr.copy())\n",
    "        end=time.clock()\n",
    "        t_m.append(end-start)        \n",
    "\n",
    "        "
   ]
  },
  {
   "cell_type": "code",
   "execution_count": 7,
   "metadata": {},
   "outputs": [
    {
     "name": "stdout",
     "output_type": "stream",
     "text": [
      "            method     n      time\n",
      "0   insertion_sort    50  0.000367\n",
      "1   insertion_sort    50  0.000390\n",
      "2   insertion_sort    50  0.000399\n",
      "3   insertion_sort    50  0.000432\n",
      "4   insertion_sort    50  0.000343\n",
      "5   insertion_sort    50  0.000349\n",
      "6   insertion_sort    50  0.000322\n",
      "7   insertion_sort    50  0.000313\n",
      "8   insertion_sort    50  0.000326\n",
      "9   insertion_sort    50  0.000283\n",
      "10  insertion_sort    50  0.000343\n",
      "11  insertion_sort    50  0.000368\n",
      "12  insertion_sort    50  0.000385\n",
      "13  insertion_sort    50  0.000337\n",
      "14  insertion_sort    50  0.000391\n",
      "15  insertion_sort    50  0.000325\n",
      "16  insertion_sort    50  0.000368\n",
      "17  insertion_sort    50  0.000325\n",
      "18  insertion_sort    50  0.000432\n",
      "19  insertion_sort    50  0.000340\n",
      "20  insertion_sort   100  0.001451\n",
      "21  insertion_sort   100  0.001457\n",
      "22  insertion_sort   100  0.001433\n",
      "23  insertion_sort   100  0.001573\n",
      "24  insertion_sort   100  0.001338\n",
      "25  insertion_sort   100  0.001443\n",
      "26  insertion_sort   100  0.001275\n",
      "27  insertion_sort   100  0.001496\n",
      "28  insertion_sort   100  0.001401\n",
      "29  insertion_sort   100  0.001399\n",
      "..             ...   ...       ...\n",
      "70      merge_sort  1000  0.004724\n",
      "71      merge_sort  1000  0.004752\n",
      "72      merge_sort  1000  0.004791\n",
      "73      merge_sort  1000  0.004731\n",
      "74      merge_sort  1000  0.004721\n",
      "75      merge_sort  1000  0.004776\n",
      "76      merge_sort  1000  0.004683\n",
      "77      merge_sort  1000  0.004719\n",
      "78      merge_sort  1000  0.004733\n",
      "79      merge_sort  1000  0.004678\n",
      "80      merge_sort  5000  0.026840\n",
      "81      merge_sort  5000  0.028695\n",
      "82      merge_sort  5000  0.026579\n",
      "83      merge_sort  5000  0.026815\n",
      "84      merge_sort  5000  0.026816\n",
      "85      merge_sort  5000  0.027429\n",
      "86      merge_sort  5000  0.026482\n",
      "87      merge_sort  5000  0.038668\n",
      "88      merge_sort  5000  0.026992\n",
      "89      merge_sort  5000  0.026895\n",
      "90      merge_sort  5000  0.026577\n",
      "91      merge_sort  5000  0.028638\n",
      "92      merge_sort  5000  0.031316\n",
      "93      merge_sort  5000  0.028304\n",
      "94      merge_sort  5000  0.026553\n",
      "95      merge_sort  5000  0.026557\n",
      "96      merge_sort  5000  0.026924\n",
      "97      merge_sort  5000  0.027853\n",
      "98      merge_sort  5000  0.028345\n",
      "99      merge_sort  5000  0.026616\n",
      "\n",
      "[200 rows x 3 columns]\n"
     ]
    }
   ],
   "source": [
    "data_insertion={'n':s_n,'time':t_i,'method':['insertion_sort']*len(s_n)}\n",
    "df1=pd.DataFrame(data_insertion)\n",
    "data_merge={'n':s_n,'time':t_m,'method':['merge_sort']*len(s_n)}\n",
    "df2=pd.DataFrame(data_merge)\n",
    "df=pd.concat([df1,df2],axis=0)\n",
    "print df"
   ]
  },
  {
   "cell_type": "code",
   "execution_count": 9,
   "metadata": {},
   "outputs": [
    {
     "data": {
      "image/png": "[encoded data removed]",
      "text/plain": [
       "<matplotlib.figure.Figure at 0x7fb147f5c450>"
      ]
     },
     "metadata": {},
     "output_type": "display_data"
    }
   ],
   "source": [
    "import warnings\n",
    "warnings.filterwarnings(\"ignore\")\n",
    "import seaborn as sns\n",
    "import matplotlib.pyplot as plt\n",
    "sns.set(style=\"whitegrid\")\n",
    "\n",
    "f, ax = plt.subplots(figsize=(12, 12))\n",
    "#ax.set( yscale=\"log\")\n",
    "sns.boxplot(x=\"n\", y=\"time\", hue=\"method\",  data=df)\n",
    "plt.show()"
   ]
  },
  {
   "cell_type": "code",
   "execution_count": 10,
   "metadata": {},
   "outputs": [
    {
     "data": {
      "text/html": [
       "<div>\n",
       "<style scoped>\n",
       "    .dataframe tbody tr th:only-of-type {\n",
       "        vertical-align: middle;\n",
       "    }\n",
       "\n",
       "    .dataframe tbody tr th {\n",
       "        vertical-align: top;\n",
       "    }\n",
       "\n",
       "    .dataframe thead th {\n",
       "        text-align: right;\n",
       "    }\n",
       "</style>\n",
       "<table border=\"1\" class=\"dataframe\">\n",
       "  <thead>\n",
       "    <tr style=\"text-align: right;\">\n",
       "      <th></th>\n",
       "      <th></th>\n",
       "      <th>time</th>\n",
       "    </tr>\n",
       "    <tr>\n",
       "      <th>method</th>\n",
       "      <th>n</th>\n",
       "      <th></th>\n",
       "    </tr>\n",
       "  </thead>\n",
       "  <tbody>\n",
       "    <tr>\n",
       "      <th rowspan=\"5\" valign=\"top\">insertion_sort</th>\n",
       "      <th>50</th>\n",
       "      <td>0.000357</td>\n",
       "    </tr>\n",
       "    <tr>\n",
       "      <th>100</th>\n",
       "      <td>0.001396</td>\n",
       "    </tr>\n",
       "    <tr>\n",
       "      <th>500</th>\n",
       "      <td>0.034571</td>\n",
       "    </tr>\n",
       "    <tr>\n",
       "      <th>1000</th>\n",
       "      <td>0.135474</td>\n",
       "    </tr>\n",
       "    <tr>\n",
       "      <th>5000</th>\n",
       "      <td>3.377010</td>\n",
       "    </tr>\n",
       "    <tr>\n",
       "      <th rowspan=\"5\" valign=\"top\">merge_sort</th>\n",
       "      <th>50</th>\n",
       "      <td>0.000190</td>\n",
       "    </tr>\n",
       "    <tr>\n",
       "      <th>100</th>\n",
       "      <td>0.000392</td>\n",
       "    </tr>\n",
       "    <tr>\n",
       "      <th>500</th>\n",
       "      <td>0.002228</td>\n",
       "    </tr>\n",
       "    <tr>\n",
       "      <th>1000</th>\n",
       "      <td>0.004942</td>\n",
       "    </tr>\n",
       "    <tr>\n",
       "      <th>5000</th>\n",
       "      <td>0.027995</td>\n",
       "    </tr>\n",
       "  </tbody>\n",
       "</table>\n",
       "</div>"
      ],
      "text/plain": [
       "                         time\n",
       "method         n             \n",
       "insertion_sort 50    0.000357\n",
       "               100   0.001396\n",
       "               500   0.034571\n",
       "               1000  0.135474\n",
       "               5000  3.377010\n",
       "merge_sort     50    0.000190\n",
       "               100   0.000392\n",
       "               500   0.002228\n",
       "               1000  0.004942\n",
       "               5000  0.027995"
      ]
     },
     "execution_count": 10,
     "metadata": {},
     "output_type": "execute_result"
    }
   ],
   "source": [
    "df.groupby(['method','n']).mean()\n"
   ]
  },
  {
   "cell_type": "code",
   "execution_count": 10,
   "metadata": {},
   "outputs": [
    {
     "data": {
      "text/html": [
       "<div>\n",
       "<style scoped>\n",
       "    .dataframe tbody tr th:only-of-type {\n",
       "        vertical-align: middle;\n",
       "    }\n",
       "\n",
       "    .dataframe tbody tr th {\n",
       "        vertical-align: top;\n",
       "    }\n",
       "\n",
       "    .dataframe thead th {\n",
       "        text-align: right;\n",
       "    }\n",
       "</style>\n",
       "<table border=\"1\" class=\"dataframe\">\n",
       "  <thead>\n",
       "    <tr style=\"text-align: right;\">\n",
       "      <th></th>\n",
       "      <th></th>\n",
       "      <th>time</th>\n",
       "    </tr>\n",
       "    <tr>\n",
       "      <th>method</th>\n",
       "      <th>n</th>\n",
       "      <th></th>\n",
       "    </tr>\n",
       "  </thead>\n",
       "  <tbody>\n",
       "    <tr>\n",
       "      <th rowspan=\"5\" valign=\"top\">insertion_sort</th>\n",
       "      <th>50</th>\n",
       "      <td>4.701553e-10</td>\n",
       "    </tr>\n",
       "    <tr>\n",
       "      <th>100</th>\n",
       "      <td>7.798011e-09</td>\n",
       "    </tr>\n",
       "    <tr>\n",
       "      <th>500</th>\n",
       "      <td>3.194170e-06</td>\n",
       "    </tr>\n",
       "    <tr>\n",
       "      <th>1000</th>\n",
       "      <td>1.670825e-04</td>\n",
       "    </tr>\n",
       "    <tr>\n",
       "      <th>5000</th>\n",
       "      <td>9.914960e-03</td>\n",
       "    </tr>\n",
       "    <tr>\n",
       "      <th rowspan=\"5\" valign=\"top\">merge_sort</th>\n",
       "      <th>50</th>\n",
       "      <td>7.441053e-11</td>\n",
       "    </tr>\n",
       "    <tr>\n",
       "      <th>100</th>\n",
       "      <td>6.580921e-10</td>\n",
       "    </tr>\n",
       "    <tr>\n",
       "      <th>500</th>\n",
       "      <td>7.210929e-08</td>\n",
       "    </tr>\n",
       "    <tr>\n",
       "      <th>1000</th>\n",
       "      <td>4.837006e-08</td>\n",
       "    </tr>\n",
       "    <tr>\n",
       "      <th>5000</th>\n",
       "      <td>2.326095e-06</td>\n",
       "    </tr>\n",
       "  </tbody>\n",
       "</table>\n",
       "</div>"
      ],
      "text/plain": [
       "                             time\n",
       "method         n                 \n",
       "insertion_sort 50    4.701553e-10\n",
       "               100   7.798011e-09\n",
       "               500   3.194170e-06\n",
       "               1000  1.670825e-04\n",
       "               5000  9.914960e-03\n",
       "merge_sort     50    7.441053e-11\n",
       "               100   6.580921e-10\n",
       "               500   7.210929e-08\n",
       "               1000  4.837006e-08\n",
       "               5000  2.326095e-06"
      ]
     },
     "execution_count": 10,
     "metadata": {},
     "output_type": "execute_result"
    }
   ],
   "source": [
    "df.groupby(['method','n']).var()"
   ]
  },
  {
   "cell_type": "code",
   "execution_count": 28,
   "metadata": {},
   "outputs": [
    {
     "name": "stdout",
     "output_type": "stream",
     "text": [
      "Ttest_indResult(statistic=18.356612646508047, pvalue=1.7427592788261534e-20)\n"
     ]
    }
   ],
   "source": [
    "from scipy import stats\n",
    "df_s=df[df['n']==50]\n",
    "t_s1=df_s[df_s['method']=='insertion_sort']['time']\n",
    "t_s2=df_s[df_s['method']=='merge_sort']['time']\n",
    "\n",
    "print stats.ttest_ind(t_s1,t_s2)\n",
    "\n"
   ]
  },
  {
   "cell_type": "code",
   "execution_count": null,
   "metadata": {},
   "outputs": [],
   "source": []
  }
 ],
 "metadata": {
  "kernelspec": {
   "display_name": "Python 2",
   "language": "python",
   "name": "python2"
  },
  "language_info": {
   "codemirror_mode": {
    "name": "ipython",
    "version": 2
   },
   "file_extension": ".py",
   "mimetype": "text/x-python",
   "name": "python",
   "nbconvert_exporter": "python",
   "pygments_lexer": "ipython2",
   "version": "2.7.12"
  }
 },
 "nbformat": 4,
 "nbformat_minor": 2
}
