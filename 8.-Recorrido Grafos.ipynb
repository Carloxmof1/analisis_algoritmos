{
 "cells": [
  {
   "cell_type": "code",
   "execution_count": 24,
   "metadata": {},
   "outputs": [],
   "source": [
    "class abstract_graph:\n",
    "    \n",
    "    def __init__(self,_edges):\n",
    "        self.edges=_edges\n",
    "        self.nodes={u for u,v in self.edges} | {v for u,v in self.edges}\n",
    "    \n",
    "    def adjacency_list(self):\n",
    "        pass\n",
    "    \n",
    "class simple_graph(abstract_graph):\n",
    "    \n",
    "    def __init__(self,_edges):\n",
    "        self.edges=_edges\n",
    "        self.nodes={u for u,v in self.edges} | {v for u,v in self.edges}\n",
    "        \n",
    "    def adjacency_matrix(self):\n",
    "        # completar\n",
    "        n=len(self.nodes)\n",
    "        mat=np.zeros((n,n))\n",
    "        return mat\n",
    "    \n",
    "    \n",
    "    def adjacency_list(self):\n",
    "        adjacent=lambda n : {v for u,v in self.edges if u==n } | {u for u,v in self.edges if v==n}\n",
    "        return {v:adjacent(v) for v in self.nodes}\n",
    "        "
   ]
  },
  {
   "cell_type": "code",
   "execution_count": 25,
   "metadata": {},
   "outputs": [
    {
     "name": "stdout",
     "output_type": "stream",
     "text": [
      "set([(5, 9), (4, 7), (1, 3), (9, 1), (4, 8), (3, 0), (2, 8), (8, 3), (8, 0), (5, 4), (0, 7), (8, 9), (5, 6), (6, 2), (1, 6), (9, 4), (5, 1), (2, 5), (8, 5), (0, 3), (5, 8), (4, 0), (1, 2), (7, 4), (9, 0), (9, 5), (6, 7), (8, 1), (7, 6), (6, 3), (1, 5), (7, 2), (3, 6), (0, 4), (5, 7), (5, 3), (4, 1), (9, 8), (9, 7), (2, 7), (3, 2), (2, 6), (5, 0), (7, 1), (4, 5), (7, 9), (8, 6), (6, 0), (1, 4), (3, 9), (2, 3), (2, 1), (6, 8), (9, 3), (4, 2), (6, 4), (0, 8), (9, 6), (3, 5), (0, 1), (6, 9), (7, 3), (4, 6), (9, 2), (6, 1), (3, 1), (8, 2), (0, 2), (3, 8), (2, 0), (1, 8), (7, 5), (4, 3), (0, 9), (0, 5), (8, 4), (5, 2), (2, 4), (1, 9)])\n",
      "{0: set([1, 2, 3, 4, 5, 6, 7, 8, 9]), 1: set([0, 2, 3, 4, 5, 6, 7, 8, 9]), 2: set([0, 1, 3, 4, 5, 6, 7, 8, 9]), 3: set([0, 1, 2, 4, 5, 6, 7, 8, 9]), 4: set([0, 1, 2, 3, 5, 6, 7, 8, 9]), 5: set([0, 1, 2, 3, 4, 6, 7, 8, 9]), 6: set([0, 1, 2, 3, 4, 5, 7, 8, 9]), 7: set([0, 1, 2, 3, 4, 5, 6, 9]), 8: set([0, 1, 2, 3, 4, 5, 6, 9]), 9: set([0, 1, 2, 3, 4, 5, 6, 7, 8])}\n"
     ]
    }
   ],
   "source": [
    "import numpy as np\n",
    "random_graph = lambda n,p : {(u,v) for u in np.arange(n) for v \n",
    "                    in np.arange(n) if np.random.rand()>p and u!=v}\n",
    "# cantidad de vértices\n",
    "n=10\n",
    "# 1- probabilidad de crear aristas\n",
    "p=0.1\n",
    "\n",
    "E=random_graph(n,p)\n",
    "G=simple_graph(E)\n",
    "print G.adjacency_list()"
   ]
  },
  {
   "cell_type": "code",
   "execution_count": 27,
   "metadata": {},
   "outputs": [
    {
     "name": "stdout",
     "output_type": "stream",
     "text": [
      "set([0, 1, 2, 3, 4, 5, 6, 7, 8, 9])\n",
      "set([0, 1, 2, 3, 4, 5, 6, 7, 8, 9])\n"
     ]
    }
   ],
   "source": [
    "# https://eddmann.com/posts/depth-first-search-and-breadth-first-search-in-python/\n",
    "\n",
    "def dfs(graph, start, visited=None):\n",
    "    if visited is None:\n",
    "        visited = set()\n",
    "    visited.add(start)\n",
    "    for next in graph[start] - visited:\n",
    "        dfs(graph, next, visited)\n",
    "    return visited\n",
    "\n",
    "def bfs(graph, start):\n",
    "    visited, queue = set(), [start]\n",
    "    while queue:\n",
    "        vertex = queue.pop(0)\n",
    "        if vertex not in visited:\n",
    "            visited.add(vertex)\n",
    "            queue.extend(graph[vertex] - visited)\n",
    "    return visited\n",
    "\n",
    "print(bfs(G.adjacency_list(),1))\n",
    "print(dfs(G.adjacency_list(),1))"
   ]
  },
  {
   "cell_type": "code",
   "execution_count": null,
   "metadata": {},
   "outputs": [],
   "source": []
  }
 ],
 "metadata": {
  "kernelspec": {
   "display_name": "Python 2",
   "language": "python",
   "name": "python2"
  },
  "language_info": {
   "codemirror_mode": {
    "name": "ipython",
    "version": 2
   },
   "file_extension": ".py",
   "mimetype": "text/x-python",
   "name": "python",
   "nbconvert_exporter": "python",
   "pygments_lexer": "ipython2",
   "version": "2.7.12"
  }
 },
 "nbformat": 4,
 "nbformat_minor": 2
}
